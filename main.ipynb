{
 "cells": [
  {
   "cell_type": "code",
   "execution_count": 1,
   "metadata": {},
   "outputs": [],
   "source": [
    "import numpy             as np\n",
    "import pandas            as pd\n",
    "import matplotlib.pyplot as plt\n",
    "import seaborn           as sns\n",
    "import plotly.graph_objs as go\n",
    "import plotly.express    as px "
   ]
  },
  {
   "cell_type": "code",
   "execution_count": 2,
   "metadata": {},
   "outputs": [],
   "source": [
    "#importing millify\n",
    "from millify import millify\n",
    "from scipy.stats import norm\n",
    "from wordcloud   import WordCloud, STOPWORDS\n",
    "from textblob import TextBlob\n",
    "import re\n",
    "from collections import Counter"
   ]
  },
  {
   "cell_type": "code",
   "execution_count": 3,
   "metadata": {},
   "outputs": [],
   "source": [
    "#importing sklearn\n",
    "from sklearn.metrics import classification_report,accuracy_score,confusion_matrix\n",
    "from IPython.display import Markdown as md\n",
    "\n",
    "import warnings\n",
    "warnings.filterwarnings(\"ignore\")"
   ]
  },
  {
   "cell_type": "code",
   "execution_count": 4,
   "metadata": {},
   "outputs": [],
   "source": [
    "df = pd.read_csv(r'covid19_tweets.csv')"
   ]
  },
  {
   "cell_type": "code",
   "execution_count": 5,
   "metadata": {},
   "outputs": [
    {
     "data": {
      "text/html": [
       "<div>\n",
       "<style scoped>\n",
       "    .dataframe tbody tr th:only-of-type {\n",
       "        vertical-align: middle;\n",
       "    }\n",
       "\n",
       "    .dataframe tbody tr th {\n",
       "        vertical-align: top;\n",
       "    }\n",
       "\n",
       "    .dataframe thead th {\n",
       "        text-align: right;\n",
       "    }\n",
       "</style>\n",
       "<table border=\"1\" class=\"dataframe\">\n",
       "  <thead>\n",
       "    <tr style=\"text-align: right;\">\n",
       "      <th></th>\n",
       "      <th>user_name</th>\n",
       "      <th>user_location</th>\n",
       "      <th>user_description</th>\n",
       "      <th>user_created</th>\n",
       "      <th>user_followers</th>\n",
       "      <th>user_friends</th>\n",
       "      <th>user_favourites</th>\n",
       "      <th>user_verified</th>\n",
       "      <th>date</th>\n",
       "      <th>text</th>\n",
       "      <th>hashtags</th>\n",
       "      <th>source</th>\n",
       "      <th>is_retweet</th>\n",
       "    </tr>\n",
       "  </thead>\n",
       "  <tbody>\n",
       "    <tr>\n",
       "      <th>0</th>\n",
       "      <td>ᏉᎥ☻լꂅϮ</td>\n",
       "      <td>astroworld</td>\n",
       "      <td>wednesday addams as a disney princess keepin i...</td>\n",
       "      <td>2017-05-26 05:46:42</td>\n",
       "      <td>624</td>\n",
       "      <td>950</td>\n",
       "      <td>18775</td>\n",
       "      <td>False</td>\n",
       "      <td>2020-07-25 12:27:21</td>\n",
       "      <td>If I smelled the scent of hand sanitizers toda...</td>\n",
       "      <td>NaN</td>\n",
       "      <td>Twitter for iPhone</td>\n",
       "      <td>False</td>\n",
       "    </tr>\n",
       "    <tr>\n",
       "      <th>1</th>\n",
       "      <td>Tom Basile 🇺🇸</td>\n",
       "      <td>New York, NY</td>\n",
       "      <td>Husband, Father, Columnist &amp; Commentator. Auth...</td>\n",
       "      <td>2009-04-16 20:06:23</td>\n",
       "      <td>2253</td>\n",
       "      <td>1677</td>\n",
       "      <td>24</td>\n",
       "      <td>True</td>\n",
       "      <td>2020-07-25 12:27:17</td>\n",
       "      <td>Hey @Yankees @YankeesPR and @MLB - wouldn't it...</td>\n",
       "      <td>NaN</td>\n",
       "      <td>Twitter for Android</td>\n",
       "      <td>False</td>\n",
       "    </tr>\n",
       "    <tr>\n",
       "      <th>2</th>\n",
       "      <td>Time4fisticuffs</td>\n",
       "      <td>Pewee Valley, KY</td>\n",
       "      <td>#Christian #Catholic #Conservative #Reagan #Re...</td>\n",
       "      <td>2009-02-28 18:57:41</td>\n",
       "      <td>9275</td>\n",
       "      <td>9525</td>\n",
       "      <td>7254</td>\n",
       "      <td>False</td>\n",
       "      <td>2020-07-25 12:27:14</td>\n",
       "      <td>@diane3443 @wdunlap @realDonaldTrump Trump nev...</td>\n",
       "      <td>['COVID19']</td>\n",
       "      <td>Twitter for Android</td>\n",
       "      <td>False</td>\n",
       "    </tr>\n",
       "    <tr>\n",
       "      <th>3</th>\n",
       "      <td>ethel mertz</td>\n",
       "      <td>Stuck in the Middle</td>\n",
       "      <td>#Browns #Indians #ClevelandProud #[]_[] #Cavs ...</td>\n",
       "      <td>2019-03-07 01:45:06</td>\n",
       "      <td>197</td>\n",
       "      <td>987</td>\n",
       "      <td>1488</td>\n",
       "      <td>False</td>\n",
       "      <td>2020-07-25 12:27:10</td>\n",
       "      <td>@brookbanktv The one gift #COVID19 has give me...</td>\n",
       "      <td>['COVID19']</td>\n",
       "      <td>Twitter for iPhone</td>\n",
       "      <td>False</td>\n",
       "    </tr>\n",
       "    <tr>\n",
       "      <th>4</th>\n",
       "      <td>DIPR-J&amp;K</td>\n",
       "      <td>Jammu and Kashmir</td>\n",
       "      <td>🖊️Official Twitter handle of Department of Inf...</td>\n",
       "      <td>2017-02-12 06:45:15</td>\n",
       "      <td>101009</td>\n",
       "      <td>168</td>\n",
       "      <td>101</td>\n",
       "      <td>False</td>\n",
       "      <td>2020-07-25 12:27:08</td>\n",
       "      <td>25 July : Media Bulletin on Novel #CoronaVirus...</td>\n",
       "      <td>['CoronaVirusUpdates', 'COVID19']</td>\n",
       "      <td>Twitter for Android</td>\n",
       "      <td>False</td>\n",
       "    </tr>\n",
       "    <tr>\n",
       "      <th>...</th>\n",
       "      <td>...</td>\n",
       "      <td>...</td>\n",
       "      <td>...</td>\n",
       "      <td>...</td>\n",
       "      <td>...</td>\n",
       "      <td>...</td>\n",
       "      <td>...</td>\n",
       "      <td>...</td>\n",
       "      <td>...</td>\n",
       "      <td>...</td>\n",
       "      <td>...</td>\n",
       "      <td>...</td>\n",
       "      <td>...</td>\n",
       "    </tr>\n",
       "    <tr>\n",
       "      <th>179103</th>\n",
       "      <td>AJIMATI AbdulRahman O.</td>\n",
       "      <td>Ilorin, Nigeria</td>\n",
       "      <td>Animal Scientist|| Muslim|| Real Madrid/Chelsea</td>\n",
       "      <td>2013-12-30 18:59:19</td>\n",
       "      <td>412</td>\n",
       "      <td>1609</td>\n",
       "      <td>1062</td>\n",
       "      <td>False</td>\n",
       "      <td>2020-08-29 19:44:21</td>\n",
       "      <td>Thanks @IamOhmai for nominating me for the @WH...</td>\n",
       "      <td>['WearAMask']</td>\n",
       "      <td>Twitter for Android</td>\n",
       "      <td>False</td>\n",
       "    </tr>\n",
       "    <tr>\n",
       "      <th>179104</th>\n",
       "      <td>Jason</td>\n",
       "      <td>Ontario</td>\n",
       "      <td>When your cat has more baking soda than Ninja ...</td>\n",
       "      <td>2011-12-21 04:41:30</td>\n",
       "      <td>150</td>\n",
       "      <td>182</td>\n",
       "      <td>7295</td>\n",
       "      <td>False</td>\n",
       "      <td>2020-08-29 19:44:16</td>\n",
       "      <td>2020! The year of insanity! Lol! #COVID19 http...</td>\n",
       "      <td>['COVID19']</td>\n",
       "      <td>Twitter for Android</td>\n",
       "      <td>False</td>\n",
       "    </tr>\n",
       "    <tr>\n",
       "      <th>179105</th>\n",
       "      <td>BEEHEMOTH ⏳</td>\n",
       "      <td>🇨🇦 Canada</td>\n",
       "      <td>⚒️ The Architects of Free Trade ⚒️ Really Did ...</td>\n",
       "      <td>2016-07-13 17:21:59</td>\n",
       "      <td>1623</td>\n",
       "      <td>2160</td>\n",
       "      <td>98000</td>\n",
       "      <td>False</td>\n",
       "      <td>2020-08-29 19:44:15</td>\n",
       "      <td>@CTVNews A powerful painting by Juan Lucena. I...</td>\n",
       "      <td>NaN</td>\n",
       "      <td>Twitter Web App</td>\n",
       "      <td>False</td>\n",
       "    </tr>\n",
       "    <tr>\n",
       "      <th>179106</th>\n",
       "      <td>Gary DelPonte</td>\n",
       "      <td>New York City</td>\n",
       "      <td>Global UX UI Visual Designer. StoryTeller, Mus...</td>\n",
       "      <td>2009-10-27 17:43:13</td>\n",
       "      <td>1338</td>\n",
       "      <td>1111</td>\n",
       "      <td>0</td>\n",
       "      <td>False</td>\n",
       "      <td>2020-08-29 19:44:14</td>\n",
       "      <td>More than 1,200 students test positive for #CO...</td>\n",
       "      <td>['COVID19']</td>\n",
       "      <td>Twitter for iPhone</td>\n",
       "      <td>False</td>\n",
       "    </tr>\n",
       "    <tr>\n",
       "      <th>179107</th>\n",
       "      <td>TUKY II</td>\n",
       "      <td>Aliwal North, South Africa</td>\n",
       "      <td>TOKELO SEKHOPA | TUKY II | LAST BORN | EISH TU...</td>\n",
       "      <td>2018-04-14 17:30:07</td>\n",
       "      <td>97</td>\n",
       "      <td>1697</td>\n",
       "      <td>566</td>\n",
       "      <td>False</td>\n",
       "      <td>2020-08-29 19:44:08</td>\n",
       "      <td>I stop when I see a Stop\\n\\n@SABCNews\\n@Izinda...</td>\n",
       "      <td>NaN</td>\n",
       "      <td>Twitter for Android</td>\n",
       "      <td>False</td>\n",
       "    </tr>\n",
       "  </tbody>\n",
       "</table>\n",
       "<p>179108 rows × 13 columns</p>\n",
       "</div>"
      ],
      "text/plain": [
       "                     user_name               user_location  \\\n",
       "0                       ᏉᎥ☻լꂅϮ                  astroworld   \n",
       "1                Tom Basile 🇺🇸                New York, NY   \n",
       "2              Time4fisticuffs            Pewee Valley, KY   \n",
       "3                  ethel mertz        Stuck in the Middle    \n",
       "4                     DIPR-J&K           Jammu and Kashmir   \n",
       "...                        ...                         ...   \n",
       "179103  AJIMATI AbdulRahman O.             Ilorin, Nigeria   \n",
       "179104                   Jason                     Ontario   \n",
       "179105             BEEHEMOTH ⏳                   🇨🇦 Canada   \n",
       "179106           Gary DelPonte               New York City   \n",
       "179107                 TUKY II  Aliwal North, South Africa   \n",
       "\n",
       "                                         user_description  \\\n",
       "0       wednesday addams as a disney princess keepin i...   \n",
       "1       Husband, Father, Columnist & Commentator. Auth...   \n",
       "2       #Christian #Catholic #Conservative #Reagan #Re...   \n",
       "3       #Browns #Indians #ClevelandProud #[]_[] #Cavs ...   \n",
       "4       🖊️Official Twitter handle of Department of Inf...   \n",
       "...                                                   ...   \n",
       "179103    Animal Scientist|| Muslim|| Real Madrid/Chelsea   \n",
       "179104  When your cat has more baking soda than Ninja ...   \n",
       "179105  ⚒️ The Architects of Free Trade ⚒️ Really Did ...   \n",
       "179106  Global UX UI Visual Designer. StoryTeller, Mus...   \n",
       "179107  TOKELO SEKHOPA | TUKY II | LAST BORN | EISH TU...   \n",
       "\n",
       "               user_created  user_followers  user_friends  user_favourites  \\\n",
       "0       2017-05-26 05:46:42             624           950            18775   \n",
       "1       2009-04-16 20:06:23            2253          1677               24   \n",
       "2       2009-02-28 18:57:41            9275          9525             7254   \n",
       "3       2019-03-07 01:45:06             197           987             1488   \n",
       "4       2017-02-12 06:45:15          101009           168              101   \n",
       "...                     ...             ...           ...              ...   \n",
       "179103  2013-12-30 18:59:19             412          1609             1062   \n",
       "179104  2011-12-21 04:41:30             150           182             7295   \n",
       "179105  2016-07-13 17:21:59            1623          2160            98000   \n",
       "179106  2009-10-27 17:43:13            1338          1111                0   \n",
       "179107  2018-04-14 17:30:07              97          1697              566   \n",
       "\n",
       "        user_verified                 date  \\\n",
       "0               False  2020-07-25 12:27:21   \n",
       "1                True  2020-07-25 12:27:17   \n",
       "2               False  2020-07-25 12:27:14   \n",
       "3               False  2020-07-25 12:27:10   \n",
       "4               False  2020-07-25 12:27:08   \n",
       "...               ...                  ...   \n",
       "179103          False  2020-08-29 19:44:21   \n",
       "179104          False  2020-08-29 19:44:16   \n",
       "179105          False  2020-08-29 19:44:15   \n",
       "179106          False  2020-08-29 19:44:14   \n",
       "179107          False  2020-08-29 19:44:08   \n",
       "\n",
       "                                                     text  \\\n",
       "0       If I smelled the scent of hand sanitizers toda...   \n",
       "1       Hey @Yankees @YankeesPR and @MLB - wouldn't it...   \n",
       "2       @diane3443 @wdunlap @realDonaldTrump Trump nev...   \n",
       "3       @brookbanktv The one gift #COVID19 has give me...   \n",
       "4       25 July : Media Bulletin on Novel #CoronaVirus...   \n",
       "...                                                   ...   \n",
       "179103  Thanks @IamOhmai for nominating me for the @WH...   \n",
       "179104  2020! The year of insanity! Lol! #COVID19 http...   \n",
       "179105  @CTVNews A powerful painting by Juan Lucena. I...   \n",
       "179106  More than 1,200 students test positive for #CO...   \n",
       "179107  I stop when I see a Stop\\n\\n@SABCNews\\n@Izinda...   \n",
       "\n",
       "                                 hashtags               source  is_retweet  \n",
       "0                                     NaN   Twitter for iPhone       False  \n",
       "1                                     NaN  Twitter for Android       False  \n",
       "2                             ['COVID19']  Twitter for Android       False  \n",
       "3                             ['COVID19']   Twitter for iPhone       False  \n",
       "4       ['CoronaVirusUpdates', 'COVID19']  Twitter for Android       False  \n",
       "...                                   ...                  ...         ...  \n",
       "179103                      ['WearAMask']  Twitter for Android       False  \n",
       "179104                        ['COVID19']  Twitter for Android       False  \n",
       "179105                                NaN      Twitter Web App       False  \n",
       "179106                        ['COVID19']   Twitter for iPhone       False  \n",
       "179107                                NaN  Twitter for Android       False  \n",
       "\n",
       "[179108 rows x 13 columns]"
      ]
     },
     "execution_count": 5,
     "metadata": {},
     "output_type": "execute_result"
    }
   ],
   "source": [
    "df"
   ]
  },
  {
   "cell_type": "code",
   "execution_count": 6,
   "metadata": {},
   "outputs": [
    {
     "data": {
      "text/html": [
       "<div>\n",
       "<style scoped>\n",
       "    .dataframe tbody tr th:only-of-type {\n",
       "        vertical-align: middle;\n",
       "    }\n",
       "\n",
       "    .dataframe tbody tr th {\n",
       "        vertical-align: top;\n",
       "    }\n",
       "\n",
       "    .dataframe thead th {\n",
       "        text-align: right;\n",
       "    }\n",
       "</style>\n",
       "<table border=\"1\" class=\"dataframe\">\n",
       "  <thead>\n",
       "    <tr style=\"text-align: right;\">\n",
       "      <th></th>\n",
       "      <th>user_name</th>\n",
       "      <th>user_location</th>\n",
       "      <th>user_description</th>\n",
       "      <th>user_created</th>\n",
       "      <th>user_followers</th>\n",
       "      <th>user_friends</th>\n",
       "      <th>user_favourites</th>\n",
       "      <th>user_verified</th>\n",
       "      <th>date</th>\n",
       "      <th>text</th>\n",
       "      <th>hashtags</th>\n",
       "      <th>source</th>\n",
       "      <th>is_retweet</th>\n",
       "    </tr>\n",
       "  </thead>\n",
       "  <tbody>\n",
       "    <tr>\n",
       "      <th>0</th>\n",
       "      <td>ᏉᎥ☻լꂅϮ</td>\n",
       "      <td>astroworld</td>\n",
       "      <td>wednesday addams as a disney princess keepin i...</td>\n",
       "      <td>2017-05-26 05:46:42</td>\n",
       "      <td>624</td>\n",
       "      <td>950</td>\n",
       "      <td>18775</td>\n",
       "      <td>False</td>\n",
       "      <td>2020-07-25 12:27:21</td>\n",
       "      <td>If I smelled the scent of hand sanitizers toda...</td>\n",
       "      <td>NaN</td>\n",
       "      <td>Twitter for iPhone</td>\n",
       "      <td>False</td>\n",
       "    </tr>\n",
       "    <tr>\n",
       "      <th>1</th>\n",
       "      <td>Tom Basile 🇺🇸</td>\n",
       "      <td>New York, NY</td>\n",
       "      <td>Husband, Father, Columnist &amp; Commentator. Auth...</td>\n",
       "      <td>2009-04-16 20:06:23</td>\n",
       "      <td>2253</td>\n",
       "      <td>1677</td>\n",
       "      <td>24</td>\n",
       "      <td>True</td>\n",
       "      <td>2020-07-25 12:27:17</td>\n",
       "      <td>Hey @Yankees @YankeesPR and @MLB - wouldn't it...</td>\n",
       "      <td>NaN</td>\n",
       "      <td>Twitter for Android</td>\n",
       "      <td>False</td>\n",
       "    </tr>\n",
       "    <tr>\n",
       "      <th>2</th>\n",
       "      <td>Time4fisticuffs</td>\n",
       "      <td>Pewee Valley, KY</td>\n",
       "      <td>#Christian #Catholic #Conservative #Reagan #Re...</td>\n",
       "      <td>2009-02-28 18:57:41</td>\n",
       "      <td>9275</td>\n",
       "      <td>9525</td>\n",
       "      <td>7254</td>\n",
       "      <td>False</td>\n",
       "      <td>2020-07-25 12:27:14</td>\n",
       "      <td>@diane3443 @wdunlap @realDonaldTrump Trump nev...</td>\n",
       "      <td>['COVID19']</td>\n",
       "      <td>Twitter for Android</td>\n",
       "      <td>False</td>\n",
       "    </tr>\n",
       "    <tr>\n",
       "      <th>3</th>\n",
       "      <td>ethel mertz</td>\n",
       "      <td>Stuck in the Middle</td>\n",
       "      <td>#Browns #Indians #ClevelandProud #[]_[] #Cavs ...</td>\n",
       "      <td>2019-03-07 01:45:06</td>\n",
       "      <td>197</td>\n",
       "      <td>987</td>\n",
       "      <td>1488</td>\n",
       "      <td>False</td>\n",
       "      <td>2020-07-25 12:27:10</td>\n",
       "      <td>@brookbanktv The one gift #COVID19 has give me...</td>\n",
       "      <td>['COVID19']</td>\n",
       "      <td>Twitter for iPhone</td>\n",
       "      <td>False</td>\n",
       "    </tr>\n",
       "    <tr>\n",
       "      <th>4</th>\n",
       "      <td>DIPR-J&amp;K</td>\n",
       "      <td>Jammu and Kashmir</td>\n",
       "      <td>🖊️Official Twitter handle of Department of Inf...</td>\n",
       "      <td>2017-02-12 06:45:15</td>\n",
       "      <td>101009</td>\n",
       "      <td>168</td>\n",
       "      <td>101</td>\n",
       "      <td>False</td>\n",
       "      <td>2020-07-25 12:27:08</td>\n",
       "      <td>25 July : Media Bulletin on Novel #CoronaVirus...</td>\n",
       "      <td>['CoronaVirusUpdates', 'COVID19']</td>\n",
       "      <td>Twitter for Android</td>\n",
       "      <td>False</td>\n",
       "    </tr>\n",
       "  </tbody>\n",
       "</table>\n",
       "</div>"
      ],
      "text/plain": [
       "         user_name         user_location  \\\n",
       "0           ᏉᎥ☻լꂅϮ            astroworld   \n",
       "1    Tom Basile 🇺🇸          New York, NY   \n",
       "2  Time4fisticuffs      Pewee Valley, KY   \n",
       "3      ethel mertz  Stuck in the Middle    \n",
       "4         DIPR-J&K     Jammu and Kashmir   \n",
       "\n",
       "                                    user_description         user_created  \\\n",
       "0  wednesday addams as a disney princess keepin i...  2017-05-26 05:46:42   \n",
       "1  Husband, Father, Columnist & Commentator. Auth...  2009-04-16 20:06:23   \n",
       "2  #Christian #Catholic #Conservative #Reagan #Re...  2009-02-28 18:57:41   \n",
       "3  #Browns #Indians #ClevelandProud #[]_[] #Cavs ...  2019-03-07 01:45:06   \n",
       "4  🖊️Official Twitter handle of Department of Inf...  2017-02-12 06:45:15   \n",
       "\n",
       "   user_followers  user_friends  user_favourites  user_verified  \\\n",
       "0             624           950            18775          False   \n",
       "1            2253          1677               24           True   \n",
       "2            9275          9525             7254          False   \n",
       "3             197           987             1488          False   \n",
       "4          101009           168              101          False   \n",
       "\n",
       "                  date                                               text  \\\n",
       "0  2020-07-25 12:27:21  If I smelled the scent of hand sanitizers toda...   \n",
       "1  2020-07-25 12:27:17  Hey @Yankees @YankeesPR and @MLB - wouldn't it...   \n",
       "2  2020-07-25 12:27:14  @diane3443 @wdunlap @realDonaldTrump Trump nev...   \n",
       "3  2020-07-25 12:27:10  @brookbanktv The one gift #COVID19 has give me...   \n",
       "4  2020-07-25 12:27:08  25 July : Media Bulletin on Novel #CoronaVirus...   \n",
       "\n",
       "                            hashtags               source  is_retweet  \n",
       "0                                NaN   Twitter for iPhone       False  \n",
       "1                                NaN  Twitter for Android       False  \n",
       "2                        ['COVID19']  Twitter for Android       False  \n",
       "3                        ['COVID19']   Twitter for iPhone       False  \n",
       "4  ['CoronaVirusUpdates', 'COVID19']  Twitter for Android       False  "
      ]
     },
     "execution_count": 6,
     "metadata": {},
     "output_type": "execute_result"
    }
   ],
   "source": [
    "#taking some inital values in the dataset\n",
    "df.head()"
   ]
  },
  {
   "cell_type": "code",
   "execution_count": 7,
   "metadata": {},
   "outputs": [
    {
     "data": {
      "text/html": [
       "<div>\n",
       "<style scoped>\n",
       "    .dataframe tbody tr th:only-of-type {\n",
       "        vertical-align: middle;\n",
       "    }\n",
       "\n",
       "    .dataframe tbody tr th {\n",
       "        vertical-align: top;\n",
       "    }\n",
       "\n",
       "    .dataframe thead th {\n",
       "        text-align: right;\n",
       "    }\n",
       "</style>\n",
       "<table border=\"1\" class=\"dataframe\">\n",
       "  <thead>\n",
       "    <tr style=\"text-align: right;\">\n",
       "      <th></th>\n",
       "      <th>user_name</th>\n",
       "      <th>user_location</th>\n",
       "      <th>user_description</th>\n",
       "      <th>user_created</th>\n",
       "      <th>user_followers</th>\n",
       "      <th>user_friends</th>\n",
       "      <th>user_favourites</th>\n",
       "      <th>user_verified</th>\n",
       "      <th>date</th>\n",
       "      <th>text</th>\n",
       "      <th>hashtags</th>\n",
       "      <th>source</th>\n",
       "      <th>is_retweet</th>\n",
       "    </tr>\n",
       "  </thead>\n",
       "  <tbody>\n",
       "    <tr>\n",
       "      <th>179103</th>\n",
       "      <td>AJIMATI AbdulRahman O.</td>\n",
       "      <td>Ilorin, Nigeria</td>\n",
       "      <td>Animal Scientist|| Muslim|| Real Madrid/Chelsea</td>\n",
       "      <td>2013-12-30 18:59:19</td>\n",
       "      <td>412</td>\n",
       "      <td>1609</td>\n",
       "      <td>1062</td>\n",
       "      <td>False</td>\n",
       "      <td>2020-08-29 19:44:21</td>\n",
       "      <td>Thanks @IamOhmai for nominating me for the @WH...</td>\n",
       "      <td>['WearAMask']</td>\n",
       "      <td>Twitter for Android</td>\n",
       "      <td>False</td>\n",
       "    </tr>\n",
       "    <tr>\n",
       "      <th>179104</th>\n",
       "      <td>Jason</td>\n",
       "      <td>Ontario</td>\n",
       "      <td>When your cat has more baking soda than Ninja ...</td>\n",
       "      <td>2011-12-21 04:41:30</td>\n",
       "      <td>150</td>\n",
       "      <td>182</td>\n",
       "      <td>7295</td>\n",
       "      <td>False</td>\n",
       "      <td>2020-08-29 19:44:16</td>\n",
       "      <td>2020! The year of insanity! Lol! #COVID19 http...</td>\n",
       "      <td>['COVID19']</td>\n",
       "      <td>Twitter for Android</td>\n",
       "      <td>False</td>\n",
       "    </tr>\n",
       "    <tr>\n",
       "      <th>179105</th>\n",
       "      <td>BEEHEMOTH ⏳</td>\n",
       "      <td>🇨🇦 Canada</td>\n",
       "      <td>⚒️ The Architects of Free Trade ⚒️ Really Did ...</td>\n",
       "      <td>2016-07-13 17:21:59</td>\n",
       "      <td>1623</td>\n",
       "      <td>2160</td>\n",
       "      <td>98000</td>\n",
       "      <td>False</td>\n",
       "      <td>2020-08-29 19:44:15</td>\n",
       "      <td>@CTVNews A powerful painting by Juan Lucena. I...</td>\n",
       "      <td>NaN</td>\n",
       "      <td>Twitter Web App</td>\n",
       "      <td>False</td>\n",
       "    </tr>\n",
       "    <tr>\n",
       "      <th>179106</th>\n",
       "      <td>Gary DelPonte</td>\n",
       "      <td>New York City</td>\n",
       "      <td>Global UX UI Visual Designer. StoryTeller, Mus...</td>\n",
       "      <td>2009-10-27 17:43:13</td>\n",
       "      <td>1338</td>\n",
       "      <td>1111</td>\n",
       "      <td>0</td>\n",
       "      <td>False</td>\n",
       "      <td>2020-08-29 19:44:14</td>\n",
       "      <td>More than 1,200 students test positive for #CO...</td>\n",
       "      <td>['COVID19']</td>\n",
       "      <td>Twitter for iPhone</td>\n",
       "      <td>False</td>\n",
       "    </tr>\n",
       "    <tr>\n",
       "      <th>179107</th>\n",
       "      <td>TUKY II</td>\n",
       "      <td>Aliwal North, South Africa</td>\n",
       "      <td>TOKELO SEKHOPA | TUKY II | LAST BORN | EISH TU...</td>\n",
       "      <td>2018-04-14 17:30:07</td>\n",
       "      <td>97</td>\n",
       "      <td>1697</td>\n",
       "      <td>566</td>\n",
       "      <td>False</td>\n",
       "      <td>2020-08-29 19:44:08</td>\n",
       "      <td>I stop when I see a Stop\\n\\n@SABCNews\\n@Izinda...</td>\n",
       "      <td>NaN</td>\n",
       "      <td>Twitter for Android</td>\n",
       "      <td>False</td>\n",
       "    </tr>\n",
       "  </tbody>\n",
       "</table>\n",
       "</div>"
      ],
      "text/plain": [
       "                     user_name               user_location  \\\n",
       "179103  AJIMATI AbdulRahman O.             Ilorin, Nigeria   \n",
       "179104                   Jason                     Ontario   \n",
       "179105             BEEHEMOTH ⏳                   🇨🇦 Canada   \n",
       "179106           Gary DelPonte               New York City   \n",
       "179107                 TUKY II  Aliwal North, South Africa   \n",
       "\n",
       "                                         user_description  \\\n",
       "179103    Animal Scientist|| Muslim|| Real Madrid/Chelsea   \n",
       "179104  When your cat has more baking soda than Ninja ...   \n",
       "179105  ⚒️ The Architects of Free Trade ⚒️ Really Did ...   \n",
       "179106  Global UX UI Visual Designer. StoryTeller, Mus...   \n",
       "179107  TOKELO SEKHOPA | TUKY II | LAST BORN | EISH TU...   \n",
       "\n",
       "               user_created  user_followers  user_friends  user_favourites  \\\n",
       "179103  2013-12-30 18:59:19             412          1609             1062   \n",
       "179104  2011-12-21 04:41:30             150           182             7295   \n",
       "179105  2016-07-13 17:21:59            1623          2160            98000   \n",
       "179106  2009-10-27 17:43:13            1338          1111                0   \n",
       "179107  2018-04-14 17:30:07              97          1697              566   \n",
       "\n",
       "        user_verified                 date  \\\n",
       "179103          False  2020-08-29 19:44:21   \n",
       "179104          False  2020-08-29 19:44:16   \n",
       "179105          False  2020-08-29 19:44:15   \n",
       "179106          False  2020-08-29 19:44:14   \n",
       "179107          False  2020-08-29 19:44:08   \n",
       "\n",
       "                                                     text       hashtags  \\\n",
       "179103  Thanks @IamOhmai for nominating me for the @WH...  ['WearAMask']   \n",
       "179104  2020! The year of insanity! Lol! #COVID19 http...    ['COVID19']   \n",
       "179105  @CTVNews A powerful painting by Juan Lucena. I...            NaN   \n",
       "179106  More than 1,200 students test positive for #CO...    ['COVID19']   \n",
       "179107  I stop when I see a Stop\\n\\n@SABCNews\\n@Izinda...            NaN   \n",
       "\n",
       "                     source  is_retweet  \n",
       "179103  Twitter for Android       False  \n",
       "179104  Twitter for Android       False  \n",
       "179105      Twitter Web App       False  \n",
       "179106   Twitter for iPhone       False  \n",
       "179107  Twitter for Android       False  "
      ]
     },
     "execution_count": 7,
     "metadata": {},
     "output_type": "execute_result"
    }
   ],
   "source": [
    "#taking some last values from the dataset\n",
    "df.tail()"
   ]
  },
  {
   "cell_type": "code",
   "execution_count": 8,
   "metadata": {},
   "outputs": [
    {
     "data": {
      "text/html": [
       "<div>\n",
       "<style scoped>\n",
       "    .dataframe tbody tr th:only-of-type {\n",
       "        vertical-align: middle;\n",
       "    }\n",
       "\n",
       "    .dataframe tbody tr th {\n",
       "        vertical-align: top;\n",
       "    }\n",
       "\n",
       "    .dataframe thead th {\n",
       "        text-align: right;\n",
       "    }\n",
       "</style>\n",
       "<table border=\"1\" class=\"dataframe\">\n",
       "  <thead>\n",
       "    <tr style=\"text-align: right;\">\n",
       "      <th></th>\n",
       "      <th>user_followers</th>\n",
       "      <th>user_friends</th>\n",
       "      <th>user_favourites</th>\n",
       "    </tr>\n",
       "  </thead>\n",
       "  <tbody>\n",
       "    <tr>\n",
       "      <th>count</th>\n",
       "      <td>1.791080e+05</td>\n",
       "      <td>179108.000000</td>\n",
       "      <td>1.791080e+05</td>\n",
       "    </tr>\n",
       "    <tr>\n",
       "      <th>mean</th>\n",
       "      <td>1.090555e+05</td>\n",
       "      <td>2121.701566</td>\n",
       "      <td>1.444411e+04</td>\n",
       "    </tr>\n",
       "    <tr>\n",
       "      <th>std</th>\n",
       "      <td>8.414670e+05</td>\n",
       "      <td>9162.553072</td>\n",
       "      <td>4.452270e+04</td>\n",
       "    </tr>\n",
       "    <tr>\n",
       "      <th>min</th>\n",
       "      <td>0.000000e+00</td>\n",
       "      <td>0.000000</td>\n",
       "      <td>0.000000e+00</td>\n",
       "    </tr>\n",
       "    <tr>\n",
       "      <th>25%</th>\n",
       "      <td>1.720000e+02</td>\n",
       "      <td>148.000000</td>\n",
       "      <td>2.060000e+02</td>\n",
       "    </tr>\n",
       "    <tr>\n",
       "      <th>50%</th>\n",
       "      <td>9.920000e+02</td>\n",
       "      <td>542.000000</td>\n",
       "      <td>1.791000e+03</td>\n",
       "    </tr>\n",
       "    <tr>\n",
       "      <th>75%</th>\n",
       "      <td>5.284000e+03</td>\n",
       "      <td>1725.250000</td>\n",
       "      <td>9.388000e+03</td>\n",
       "    </tr>\n",
       "    <tr>\n",
       "      <th>max</th>\n",
       "      <td>4.944256e+07</td>\n",
       "      <td>497363.000000</td>\n",
       "      <td>2.047197e+06</td>\n",
       "    </tr>\n",
       "  </tbody>\n",
       "</table>\n",
       "</div>"
      ],
      "text/plain": [
       "       user_followers   user_friends  user_favourites\n",
       "count    1.791080e+05  179108.000000     1.791080e+05\n",
       "mean     1.090555e+05    2121.701566     1.444411e+04\n",
       "std      8.414670e+05    9162.553072     4.452270e+04\n",
       "min      0.000000e+00       0.000000     0.000000e+00\n",
       "25%      1.720000e+02     148.000000     2.060000e+02\n",
       "50%      9.920000e+02     542.000000     1.791000e+03\n",
       "75%      5.284000e+03    1725.250000     9.388000e+03\n",
       "max      4.944256e+07  497363.000000     2.047197e+06"
      ]
     },
     "execution_count": 8,
     "metadata": {},
     "output_type": "execute_result"
    }
   ],
   "source": [
    "df.describe()"
   ]
  },
  {
   "cell_type": "code",
   "execution_count": 9,
   "metadata": {},
   "outputs": [
    {
     "data": {
      "text/plain": [
       "user_name               0\n",
       "user_location       36771\n",
       "user_description    10286\n",
       "user_created            0\n",
       "user_followers          0\n",
       "user_friends            0\n",
       "user_favourites         0\n",
       "user_verified           0\n",
       "date                    0\n",
       "text                    0\n",
       "hashtags            51334\n",
       "source                 77\n",
       "is_retweet              0\n",
       "dtype: int64"
      ]
     },
     "execution_count": 9,
     "metadata": {},
     "output_type": "execute_result"
    }
   ],
   "source": [
    "#finding out the missing values \n",
    "df.isna().sum()"
   ]
  },
  {
   "cell_type": "markdown",
   "metadata": {},
   "source": [
    "Data Visualization \n"
   ]
  },
  {
   "cell_type": "code",
   "execution_count": 10,
   "metadata": {},
   "outputs": [
    {
     "name": "stdout",
     "output_type": "stream",
     "text": [
      "Shapes of the tweets of the dataframes : (179108, 13)\n"
     ]
    }
   ],
   "source": [
    "#printing the shape of the tweets of the dataframe\n",
    "print('Shapes of the tweets of the dataframes : {}'.format(df.shape))"
   ]
  },
  {
   "cell_type": "code",
   "execution_count": 11,
   "metadata": {},
   "outputs": [
    {
     "name": "stdout",
     "output_type": "stream",
     "text": [
      "<class 'pandas.core.frame.DataFrame'>\n",
      "RangeIndex: 179108 entries, 0 to 179107\n",
      "Data columns (total 13 columns):\n",
      " #   Column            Non-Null Count   Dtype \n",
      "---  ------            --------------   ----- \n",
      " 0   user_name         179108 non-null  object\n",
      " 1   user_location     142337 non-null  object\n",
      " 2   user_description  168822 non-null  object\n",
      " 3   user_created      179108 non-null  object\n",
      " 4   user_followers    179108 non-null  int64 \n",
      " 5   user_friends      179108 non-null  int64 \n",
      " 6   user_favourites   179108 non-null  int64 \n",
      " 7   user_verified     179108 non-null  bool  \n",
      " 8   date              179108 non-null  object\n",
      " 9   text              179108 non-null  object\n",
      " 10  hashtags          127774 non-null  object\n",
      " 11  source            179031 non-null  object\n",
      " 12  is_retweet        179108 non-null  bool  \n",
      "dtypes: bool(2), int64(3), object(8)\n",
      "memory usage: 15.4+ MB\n"
     ]
    }
   ],
   "source": [
    "df.info()"
   ]
  },
  {
   "cell_type": "code",
   "execution_count": 12,
   "metadata": {},
   "outputs": [],
   "source": [
    "#function for returning the missing values \n",
    "def return_missing_values(data_frame):\n",
    "    missing_values = data_frame.isnull().sum()/len(data_frame)\n",
    "    missing_values = missing_values[missing_values>0]\n",
    "    missing_values.sort_values(inplace=True)\n",
    "    return missing_values\n",
    "\n",
    "def plot_missing_values(data_frame):\n",
    "    missing_values = return_missing_values(data_frame)  #reassining the value\n",
    "    missing_values = missing_values.to_frame()\n",
    "    missing_values.columns = ['count']\n",
    "    missing_values.index.names = ['Name']\n",
    "    missing_values['Name'] = missing_values.index\n",
    "    sns.set(style='whitegrid', color_codes=True)\n",
    "    sns.barplot(x='Name', y='count' , data=missing_values)\n",
    "    plt.xticks(rotation=90)\n",
    "    plt.show()"
   ]
  },
  {
   "cell_type": "code",
   "execution_count": 13,
   "metadata": {},
   "outputs": [
    {
     "data": {
      "text/plain": [
       "source              0.000430\n",
       "user_description    0.057429\n",
       "user_location       0.205301\n",
       "hashtags            0.286609\n",
       "dtype: float64"
      ]
     },
     "execution_count": 13,
     "metadata": {},
     "output_type": "execute_result"
    }
   ],
   "source": [
    "return_missing_values(df)"
   ]
  },
  {
   "cell_type": "code",
   "execution_count": 14,
   "metadata": {},
   "outputs": [
    {
     "data": {
      "image/png": "[encoded data removed]",
      "text/plain": [
       "<Figure size 432x288 with 1 Axes>"
      ]
     },
     "metadata": {},
     "output_type": "display_data"
    }
   ],
   "source": [
    "plot_missing_values(df)"
   ]
  },
  {
   "cell_type": "code",
   "execution_count": 15,
   "metadata": {},
   "outputs": [],
   "source": [
    "#frequency of users tweeting about corona\n",
    "def plot_frequency_charts(df, feature, title, pallete):\n",
    "    freq_df = pd.DataFrame()\n",
    "    freq_df[feature] = df[feature]\n",
    "    \n",
    "    f, ax = plt.subplots(1,1, figsize=(16,4))\n",
    "    total = float(len(df))\n",
    "    g = sns.countplot(df[feature], order = df[feature].value_counts().index[:20], palette=pallete)\n",
    "    g.set_title(\"Number and percentage of {}\".format(title))\n",
    "\n",
    "    for p in ax.patches:\n",
    "        height = p.get_height()\n",
    "        ax.text(p.get_x()+p.get_width()/2.,\n",
    "                height + 3,\n",
    "                '{:1.2f}%'.format(100*height/total),\n",
    "                ha=\"center\") \n",
    "\n",
    "    plt.title('Frequency of {} tweeting about Corona'.format(feature))\n",
    "    plt.ylabel('Frequency', fontsize=12)\n",
    "    plt.xlabel(title, fontsize=12)\n",
    "    plt.xticks(rotation=90)\n",
    "    plt.show()"
   ]
  },
  {
   "cell_type": "code",
   "execution_count": 16,
   "metadata": {},
   "outputs": [
    {
     "data": {
      "image/png": "[encoded data removed]",
      "text/plain": [
       "<Figure size 1152x288 with 1 Axes>"
      ]
     },
     "metadata": {},
     "output_type": "display_data"
    }
   ],
   "source": [
    "plot_frequency_charts(df, 'user_name', 'User Names','Wistia')"
   ]
  },
  {
   "cell_type": "code",
   "execution_count": 17,
   "metadata": {},
   "outputs": [
    {
     "data": {
      "image/png": "[encoded data removed]",
      "text/plain": [
       "<Figure size 1152x288 with 1 Axes>"
      ]
     },
     "metadata": {},
     "output_type": "display_data"
    }
   ],
   "source": [
    "plot_frequency_charts(df, 'user_location', 'User Locations', 'BuGn_r')"
   ]
  },
  {
   "cell_type": "markdown",
   "metadata": {},
   "source": [
    "Sentimental Analysis"
   ]
  },
  {
   "cell_type": "code",
   "execution_count": 18,
   "metadata": {},
   "outputs": [],
   "source": [
    "# Drop Columns\n",
    "drop_columns = [\n",
    "    'user_name',\n",
    "    'user_description',\n",
    "    'user_created',\n",
    "    'user_followers',\n",
    "    'user_friends',\n",
    "    'user_favourites',\n",
    "    'user_verified',\n",
    "    'hashtags',\n",
    "    'source',\n",
    "    'is_retweet'\n",
    "]"
   ]
  },
  {
   "cell_type": "code",
   "execution_count": 19,
   "metadata": {},
   "outputs": [
    {
     "data": {
      "text/plain": [
       "<bound method NDFrame.head of                      user_location                 date  \\\n",
       "0                       astroworld  2020-07-25 12:27:21   \n",
       "1                     New York, NY  2020-07-25 12:27:17   \n",
       "2                 Pewee Valley, KY  2020-07-25 12:27:14   \n",
       "3             Stuck in the Middle   2020-07-25 12:27:10   \n",
       "4                Jammu and Kashmir  2020-07-25 12:27:08   \n",
       "...                            ...                  ...   \n",
       "179103             Ilorin, Nigeria  2020-08-29 19:44:21   \n",
       "179104                     Ontario  2020-08-29 19:44:16   \n",
       "179105                   🇨🇦 Canada  2020-08-29 19:44:15   \n",
       "179106               New York City  2020-08-29 19:44:14   \n",
       "179107  Aliwal North, South Africa  2020-08-29 19:44:08   \n",
       "\n",
       "                                                     text  \n",
       "0       If I smelled the scent of hand sanitizers toda...  \n",
       "1       Hey @Yankees @YankeesPR and @MLB - wouldn't it...  \n",
       "2       @diane3443 @wdunlap @realDonaldTrump Trump nev...  \n",
       "3       @brookbanktv The one gift #COVID19 has give me...  \n",
       "4       25 July : Media Bulletin on Novel #CoronaVirus...  \n",
       "...                                                   ...  \n",
       "179103  Thanks @IamOhmai for nominating me for the @WH...  \n",
       "179104  2020! The year of insanity! Lol! #COVID19 http...  \n",
       "179105  @CTVNews A powerful painting by Juan Lucena. I...  \n",
       "179106  More than 1,200 students test positive for #CO...  \n",
       "179107  I stop when I see a Stop\\n\\n@SABCNews\\n@Izinda...  \n",
       "\n",
       "[179108 rows x 3 columns]>"
      ]
     },
     "execution_count": 19,
     "metadata": {},
     "output_type": "execute_result"
    }
   ],
   "source": [
    "df.drop(columns=drop_columns, inplace=True)\n",
    "df.head"
   ]
  },
  {
   "cell_type": "markdown",
   "metadata": {},
   "source": [
    "Tweet Processing "
   ]
  },
  {
   "cell_type": "code",
   "execution_count": 20,
   "metadata": {},
   "outputs": [
    {
     "name": "stderr",
     "output_type": "stream",
     "text": [
      "[nltk_data] Downloading package omw-1.4 to\n",
      "[nltk_data]     C:\\Users\\peeyu\\AppData\\Roaming\\nltk_data...\n",
      "[nltk_data]   Package omw-1.4 is already up-to-date!\n"
     ]
    }
   ],
   "source": [
    "import re\n",
    "import nltk\n",
    "nltk.download('omw-1.4')\n",
    "from nltk.corpus import stopwords\n",
    "from nltk.tokenize import word_tokenize\n",
    "from nltk.stem import PorterStemmer\n",
    "from nltk.probability import FreqDist\n",
    "\n",
    "from textblob import TextBlob\n",
    "from textblob import Word\n",
    "\n",
    "# stop_words = set(stopwords.words('english'))"
   ]
  },
  {
   "cell_type": "code",
   "execution_count": 21,
   "metadata": {},
   "outputs": [],
   "source": [
    "stop_words = set(stopwords.words('english'))\n",
    "\n",
    "def tweet_scrubber(tweet):\n",
    "    #making the twitter lower case\n",
    "    tweet = tweet.lower()\n",
    "\n",
    "    #removing mentions\n",
    "    tweet = re.sub(r'@[A-Za-z0-9_]+','',tweet)\n",
    "\n",
    "    #removing urls and other stuff\n",
    "    to_remove = r'\\d+|http?\\S+|[^A-Za-z0-9]+'\n",
    "    tweet = re.sub(to_remove, \" \", tweet)\n",
    "    return tweet\n",
    "\n",
    "def tokenization_and_stem(tweet, stem=False, lemmatize=False):\n",
    "    filtered_tweet = []\n",
    "    words = word_tokenize(tweet) \n",
    "\n",
    "    # Remove stopwords and stem\n",
    "    for word in words:\n",
    "        if not word in stop_words:\n",
    "            if lemmatize:\n",
    "                filtered_tweet.append(Word(word).lemmatize())\n",
    "            else:\n",
    "                filtered_tweet.append(word)\n",
    "            \n",
    "    return filtered_tweet\n"
   ]
  },
  {
   "cell_type": "code",
   "execution_count": 22,
   "metadata": {},
   "outputs": [],
   "source": [
    "df.text = df.text.apply(lambda x: tokenization_and_stem(tweet_scrubber(x), lemmatize=True))"
   ]
  },
  {
   "cell_type": "code",
   "execution_count": 23,
   "metadata": {},
   "outputs": [
    {
     "data": {
      "text/plain": [
       "0    [smelled, scent, hand, sanitizers, today, some...\n",
       "1             [hey, made, sense, player, pay, respect]\n",
       "2    [trump, never, claimed, covid, hoax, claim, ef...\n",
       "3    [one, gift, covid, give, appreciation, simple,...\n",
       "4    [july, medium, bulletin, novel, coronavirusupd...\n",
       "Name: text, dtype: object"
      ]
     },
     "execution_count": 23,
     "metadata": {},
     "output_type": "execute_result"
    }
   ],
   "source": [
    "df.text.head()"
   ]
  },
  {
   "cell_type": "markdown",
   "metadata": {},
   "source": [
    "Sentimental Analysis"
   ]
  },
  {
   "cell_type": "code",
   "execution_count": 24,
   "metadata": {},
   "outputs": [
    {
     "data": {
      "text/html": [
       "<div>\n",
       "<style scoped>\n",
       "    .dataframe tbody tr th:only-of-type {\n",
       "        vertical-align: middle;\n",
       "    }\n",
       "\n",
       "    .dataframe tbody tr th {\n",
       "        vertical-align: top;\n",
       "    }\n",
       "\n",
       "    .dataframe thead th {\n",
       "        text-align: right;\n",
       "    }\n",
       "</style>\n",
       "<table border=\"1\" class=\"dataframe\">\n",
       "  <thead>\n",
       "    <tr style=\"text-align: right;\">\n",
       "      <th></th>\n",
       "      <th>text</th>\n",
       "      <th>Polarity</th>\n",
       "      <th>Subjectivity</th>\n",
       "      <th>Sentiment</th>\n",
       "    </tr>\n",
       "  </thead>\n",
       "  <tbody>\n",
       "    <tr>\n",
       "      <th>0</th>\n",
       "      <td>[smelled, scent, hand, sanitizers, today, some...</td>\n",
       "      <td>-0.25</td>\n",
       "      <td>0.250000</td>\n",
       "      <td>negative</td>\n",
       "    </tr>\n",
       "    <tr>\n",
       "      <th>1</th>\n",
       "      <td>[hey, made, sense, player, pay, respect]</td>\n",
       "      <td>0.00</td>\n",
       "      <td>0.000000</td>\n",
       "      <td>neutral</td>\n",
       "    </tr>\n",
       "    <tr>\n",
       "      <th>2</th>\n",
       "      <td>[trump, never, claimed, covid, hoax, claim, ef...</td>\n",
       "      <td>0.00</td>\n",
       "      <td>0.000000</td>\n",
       "      <td>neutral</td>\n",
       "    </tr>\n",
       "    <tr>\n",
       "      <th>3</th>\n",
       "      <td>[one, gift, covid, give, appreciation, simple,...</td>\n",
       "      <td>0.00</td>\n",
       "      <td>0.357143</td>\n",
       "      <td>neutral</td>\n",
       "    </tr>\n",
       "    <tr>\n",
       "      <th>4</th>\n",
       "      <td>[july, medium, bulletin, novel, coronavirusupd...</td>\n",
       "      <td>0.00</td>\n",
       "      <td>0.000000</td>\n",
       "      <td>neutral</td>\n",
       "    </tr>\n",
       "  </tbody>\n",
       "</table>\n",
       "</div>"
      ],
      "text/plain": [
       "                                                text  Polarity  Subjectivity  \\\n",
       "0  [smelled, scent, hand, sanitizers, today, some...     -0.25      0.250000   \n",
       "1           [hey, made, sense, player, pay, respect]      0.00      0.000000   \n",
       "2  [trump, never, claimed, covid, hoax, claim, ef...      0.00      0.000000   \n",
       "3  [one, gift, covid, give, appreciation, simple,...      0.00      0.357143   \n",
       "4  [july, medium, bulletin, novel, coronavirusupd...      0.00      0.000000   \n",
       "\n",
       "  Sentiment  \n",
       "0  negative  \n",
       "1   neutral  \n",
       "2   neutral  \n",
       "3   neutral  \n",
       "4   neutral  "
      ]
     },
     "execution_count": 24,
     "metadata": {},
     "output_type": "execute_result"
    }
   ],
   "source": [
    "# Function to perform sentitment analysis on trump and biden dataframes\n",
    "def sentiment_analysis(df):\n",
    "    \n",
    "    # Determine polarity and subjectivity\n",
    "    df['Polarity'] = df['text'].apply(lambda x: TextBlob(' '.join(x)).sentiment.polarity)\n",
    "    df['Subjectivity'] = df['text'].apply(lambda x: TextBlob(' '.join(x)).sentiment.subjectivity)\n",
    "    \n",
    "    # Classify overall sentiment\n",
    "    df.loc[df.Polarity > 0,'Sentiment'] = 'positive'\n",
    "    df.loc[df.Polarity == 0,'Sentiment'] = 'neutral'\n",
    "    df.loc[df.Polarity < 0,'Sentiment'] = 'negative'\n",
    "    \n",
    "    return df[['text','Polarity','Subjectivity','Sentiment']].head()\n",
    "sentiment_analysis(df)"
   ]
  },
  {
   "cell_type": "code",
   "execution_count": 25,
   "metadata": {},
   "outputs": [
    {
     "data": {
      "text/plain": [
       "neutral     76765\n",
       "positive    72135\n",
       "negative    30208\n",
       "Name: Sentiment, dtype: int64"
      ]
     },
     "execution_count": 25,
     "metadata": {},
     "output_type": "execute_result"
    }
   ],
   "source": [
    "df['Sentiment'].value_counts()"
   ]
  },
  {
   "cell_type": "code",
   "execution_count": 26,
   "metadata": {},
   "outputs": [
    {
     "data": {
      "text/plain": [
       " 0.000000    76765\n",
       " 0.500000     6502\n",
       " 0.136364     5701\n",
       " 0.250000     4100\n",
       " 0.200000     3811\n",
       "             ...  \n",
       " 0.395833        1\n",
       " 0.139773        1\n",
       " 0.257738        1\n",
       " 0.152083        1\n",
       "-0.068571        1\n",
       "Name: Polarity, Length: 3928, dtype: int64"
      ]
     },
     "execution_count": 26,
     "metadata": {},
     "output_type": "execute_result"
    }
   ],
   "source": [
    "df['Polarity'].value_counts()"
   ]
  },
  {
   "cell_type": "code",
   "execution_count": 27,
   "metadata": {},
   "outputs": [
    {
     "data": {
      "text/plain": [
       "0.000000    63467\n",
       "0.500000     9601\n",
       "1.000000     7625\n",
       "0.400000     5541\n",
       "0.454545     5041\n",
       "            ...  \n",
       "0.298485        1\n",
       "0.873016        1\n",
       "0.354242        1\n",
       "0.310909        1\n",
       "0.374286        1\n",
       "Name: Subjectivity, Length: 3317, dtype: int64"
      ]
     },
     "execution_count": 27,
     "metadata": {},
     "output_type": "execute_result"
    }
   ],
   "source": [
    "df['Subjectivity'].value_counts()"
   ]
  },
  {
   "cell_type": "code",
   "execution_count": 61,
   "metadata": {},
   "outputs": [
    {
     "data": {
      "text/plain": [
       "Text(0, 0.5, 'Number of tweets')"
      ]
     },
     "execution_count": 61,
     "metadata": {},
     "output_type": "execute_result"
    },
    {
     "data": {
      "image/png": "[encoded data removed]",
      "text/plain": [
       "<Figure size 432x288 with 1 Axes>"
      ]
     },
     "metadata": {},
     "output_type": "display_data"
    }
   ],
   "source": [
    "#grah of sentiment\n",
    "Sentimental_val = df.groupby('Sentiment').count()\n",
    "plt.bar(Sentimental_val.index.values, Sentimental_val['text'])\n",
    "plt.xlabel('Review of Sentiments')\n",
    "plt.ylabel('Number of tweets')"
   ]
  },
  {
   "cell_type": "code",
   "execution_count": 60,
   "metadata": {},
   "outputs": [
    {
     "data": {
      "text/plain": [
       "<matplotlib.axes._subplots.AxesSubplot at 0x2b50feea2c8>"
      ]
     },
     "execution_count": 60,
     "metadata": {},
     "output_type": "execute_result"
    },
    {
     "data": {
      "image/png": "[encoded data removed]",
      "text/plain": [
       "<Figure size 432x288 with 1 Axes>"
      ]
     },
     "metadata": {},
     "output_type": "display_data"
    }
   ],
   "source": [
    "#lineplot of the sentiment \n",
    "sns.lineplot(data=Sentimental_val, x=\"Sentiment\", y=\"text\")"
   ]
  },
  {
   "cell_type": "code",
   "execution_count": 56,
   "metadata": {},
   "outputs": [
    {
     "data": {
      "text/plain": [
       "Text(0, 0.5, 'Number of tweets')"
      ]
     },
     "execution_count": 56,
     "metadata": {},
     "output_type": "execute_result"
    },
    {
     "data": {
      "image/png": "[encoded data removed]",
      "text/plain": [
       "<Figure size 432x288 with 1 Axes>"
      ]
     },
     "metadata": {},
     "output_type": "display_data"
    }
   ],
   "source": [
    "#graph of polarity \n",
    "Polarity_val = df.groupby('Polarity').count()\n",
    "plt.bar(Polarity_val.index.values, Polarity_val['text'], width=0.1)\n",
    "plt.xlabel('Analysis Of Polarity')\n",
    "plt.ylabel('Number of tweets')"
   ]
  },
  {
   "cell_type": "code",
   "execution_count": 31,
   "metadata": {},
   "outputs": [
    {
     "data": {
      "text/plain": [
       "<matplotlib.axes._subplots.AxesSubplot at 0x2b57af46588>"
      ]
     },
     "execution_count": 31,
     "metadata": {},
     "output_type": "execute_result"
    },
    {
     "data": {
      "image/png": "[encoded data removed]",
      "text/plain": [
       "<Figure size 432x288 with 1 Axes>"
      ]
     },
     "metadata": {},
     "output_type": "display_data"
    }
   ],
   "source": [
    "#lineplot of the Polarity \n",
    "sns.lineplot(data=Polarity_val, x=\"Polarity\", y=\"text\")"
   ]
  },
  {
   "cell_type": "code",
   "execution_count": 52,
   "metadata": {},
   "outputs": [
    {
     "data": {
      "text/plain": [
       "Text(0, 0.5, 'No of tweets')"
      ]
     },
     "execution_count": 52,
     "metadata": {},
     "output_type": "execute_result"
    },
    {
     "data": {
      "image/png": "[encoded data removed]",
      "text/plain": [
       "<Figure size 432x288 with 1 Axes>"
      ]
     },
     "metadata": {},
     "output_type": "display_data"
    }
   ],
   "source": [
    "#graph of subjectivity\n",
    "Subjectivity_val = df.groupby('Subjectivity').count()\n",
    "plt.bar(Subjectivity_val.index.values, Subjectivity_val['text'],width=0.1)\n",
    "plt.xlabel(\"Review of Subjectivity\")\n",
    "plt.ylabel(\"No of tweets\")"
   ]
  },
  {
   "cell_type": "code",
   "execution_count": 37,
   "metadata": {},
   "outputs": [
    {
     "data": {
      "text/plain": [
       "<matplotlib.axes._subplots.AxesSubplot at 0x2b57febcf88>"
      ]
     },
     "execution_count": 37,
     "metadata": {},
     "output_type": "execute_result"
    },
    {
     "data": {
      "image/png": "[encoded data removed]",
      "text/plain": [
       "<Figure size 432x288 with 1 Axes>"
      ]
     },
     "metadata": {},
     "output_type": "display_data"
    }
   ],
   "source": [
    "#lineplot of subjectivity\n",
    "sns.lineplot(data=Subjectivity_val, x=\"Subjectivity\", y=\"text\")"
   ]
  },
  {
   "cell_type": "code",
   "execution_count": 38,
   "metadata": {},
   "outputs": [],
   "source": [
    "import numpy as np \n",
    "import pandas as pd \n",
    "import nltk\n",
    "import seaborn as sns\n",
    "import matplotlib.pyplot as plt  "
   ]
  },
  {
   "cell_type": "code",
   "execution_count": 39,
   "metadata": {},
   "outputs": [],
   "source": [
    "# Loading the dataset \n",
    "dataset= pd.read_csv(\"Emotional_analysis.csv\")"
   ]
  },
  {
   "cell_type": "code",
   "execution_count": 40,
   "metadata": {},
   "outputs": [
    {
     "data": {
      "text/html": [
       "<div>\n",
       "<style scoped>\n",
       "    .dataframe tbody tr th:only-of-type {\n",
       "        vertical-align: middle;\n",
       "    }\n",
       "\n",
       "    .dataframe tbody tr th {\n",
       "        vertical-align: top;\n",
       "    }\n",
       "\n",
       "    .dataframe thead th {\n",
       "        text-align: right;\n",
       "    }\n",
       "</style>\n",
       "<table border=\"1\" class=\"dataframe\">\n",
       "  <thead>\n",
       "    <tr style=\"text-align: right;\">\n",
       "      <th></th>\n",
       "      <th>Unnamed: 0</th>\n",
       "      <th>sentiment</th>\n",
       "      <th>text</th>\n",
       "    </tr>\n",
       "  </thead>\n",
       "  <tbody>\n",
       "    <tr>\n",
       "      <th>0</th>\n",
       "      <td>3204</td>\n",
       "      <td>sad</td>\n",
       "      <td>agree the poor in india are treated badly thei...</td>\n",
       "    </tr>\n",
       "    <tr>\n",
       "      <th>1</th>\n",
       "      <td>1431</td>\n",
       "      <td>joy</td>\n",
       "      <td>if only i could have spent the with this cutie...</td>\n",
       "    </tr>\n",
       "    <tr>\n",
       "      <th>2</th>\n",
       "      <td>654</td>\n",
       "      <td>joy</td>\n",
       "      <td>will nature conservation remain a priority in ...</td>\n",
       "    </tr>\n",
       "    <tr>\n",
       "      <th>3</th>\n",
       "      <td>2530</td>\n",
       "      <td>sad</td>\n",
       "      <td>coronavirus disappearing in italy show this to...</td>\n",
       "    </tr>\n",
       "    <tr>\n",
       "      <th>4</th>\n",
       "      <td>2296</td>\n",
       "      <td>sad</td>\n",
       "      <td>uk records lowest daily virus death toll since...</td>\n",
       "    </tr>\n",
       "    <tr>\n",
       "      <th>...</th>\n",
       "      <td>...</td>\n",
       "      <td>...</td>\n",
       "      <td>...</td>\n",
       "    </tr>\n",
       "    <tr>\n",
       "      <th>3085</th>\n",
       "      <td>2579</td>\n",
       "      <td>sad</td>\n",
       "      <td>today at 02 30pm a 54 year old bangladeshi mal...</td>\n",
       "    </tr>\n",
       "    <tr>\n",
       "      <th>3086</th>\n",
       "      <td>3579</td>\n",
       "      <td>anger</td>\n",
       "      <td>corona virus i implore that you cease activity...</td>\n",
       "    </tr>\n",
       "    <tr>\n",
       "      <th>3087</th>\n",
       "      <td>221</td>\n",
       "      <td>joy</td>\n",
       "      <td>issa date once lockdown ends inshaallah (and c...</td>\n",
       "    </tr>\n",
       "    <tr>\n",
       "      <th>3088</th>\n",
       "      <td>2705</td>\n",
       "      <td>sad</td>\n",
       "      <td>the death toll due to covid 19 rose to 31 in j...</td>\n",
       "    </tr>\n",
       "    <tr>\n",
       "      <th>3089</th>\n",
       "      <td>2962</td>\n",
       "      <td>sad</td>\n",
       "      <td>the rates are become barrier for poor people t...</td>\n",
       "    </tr>\n",
       "  </tbody>\n",
       "</table>\n",
       "<p>3090 rows × 3 columns</p>\n",
       "</div>"
      ],
      "text/plain": [
       "      Unnamed: 0 sentiment                                               text\n",
       "0           3204       sad  agree the poor in india are treated badly thei...\n",
       "1           1431       joy  if only i could have spent the with this cutie...\n",
       "2            654       joy  will nature conservation remain a priority in ...\n",
       "3           2530       sad  coronavirus disappearing in italy show this to...\n",
       "4           2296       sad  uk records lowest daily virus death toll since...\n",
       "...          ...       ...                                                ...\n",
       "3085        2579       sad  today at 02 30pm a 54 year old bangladeshi mal...\n",
       "3086        3579     anger  corona virus i implore that you cease activity...\n",
       "3087         221       joy  issa date once lockdown ends inshaallah (and c...\n",
       "3088        2705       sad  the death toll due to covid 19 rose to 31 in j...\n",
       "3089        2962       sad  the rates are become barrier for poor people t...\n",
       "\n",
       "[3090 rows x 3 columns]"
      ]
     },
     "execution_count": 40,
     "metadata": {},
     "output_type": "execute_result"
    }
   ],
   "source": [
    "#printing the dataset\n",
    "dataset"
   ]
  },
  {
   "cell_type": "code",
   "execution_count": 41,
   "metadata": {},
   "outputs": [],
   "source": [
    "#changing the name of the columns \n",
    "dataset = dataset.rename(columns={\"sentiment\":\"Feeling\"})\n",
    "dataset = dataset.rename(columns={\"text\":\"tweets\"})"
   ]
  },
  {
   "cell_type": "code",
   "execution_count": 42,
   "metadata": {},
   "outputs": [
    {
     "data": {
      "text/html": [
       "<div>\n",
       "<style scoped>\n",
       "    .dataframe tbody tr th:only-of-type {\n",
       "        vertical-align: middle;\n",
       "    }\n",
       "\n",
       "    .dataframe tbody tr th {\n",
       "        vertical-align: top;\n",
       "    }\n",
       "\n",
       "    .dataframe thead th {\n",
       "        text-align: right;\n",
       "    }\n",
       "</style>\n",
       "<table border=\"1\" class=\"dataframe\">\n",
       "  <thead>\n",
       "    <tr style=\"text-align: right;\">\n",
       "      <th></th>\n",
       "      <th>Unnamed: 0</th>\n",
       "      <th>Feeling</th>\n",
       "      <th>tweets</th>\n",
       "    </tr>\n",
       "  </thead>\n",
       "  <tbody>\n",
       "    <tr>\n",
       "      <th>0</th>\n",
       "      <td>3204</td>\n",
       "      <td>sad</td>\n",
       "      <td>agree the poor in india are treated badly thei...</td>\n",
       "    </tr>\n",
       "    <tr>\n",
       "      <th>1</th>\n",
       "      <td>1431</td>\n",
       "      <td>joy</td>\n",
       "      <td>if only i could have spent the with this cutie...</td>\n",
       "    </tr>\n",
       "    <tr>\n",
       "      <th>2</th>\n",
       "      <td>654</td>\n",
       "      <td>joy</td>\n",
       "      <td>will nature conservation remain a priority in ...</td>\n",
       "    </tr>\n",
       "    <tr>\n",
       "      <th>3</th>\n",
       "      <td>2530</td>\n",
       "      <td>sad</td>\n",
       "      <td>coronavirus disappearing in italy show this to...</td>\n",
       "    </tr>\n",
       "    <tr>\n",
       "      <th>4</th>\n",
       "      <td>2296</td>\n",
       "      <td>sad</td>\n",
       "      <td>uk records lowest daily virus death toll since...</td>\n",
       "    </tr>\n",
       "    <tr>\n",
       "      <th>...</th>\n",
       "      <td>...</td>\n",
       "      <td>...</td>\n",
       "      <td>...</td>\n",
       "    </tr>\n",
       "    <tr>\n",
       "      <th>3085</th>\n",
       "      <td>2579</td>\n",
       "      <td>sad</td>\n",
       "      <td>today at 02 30pm a 54 year old bangladeshi mal...</td>\n",
       "    </tr>\n",
       "    <tr>\n",
       "      <th>3086</th>\n",
       "      <td>3579</td>\n",
       "      <td>anger</td>\n",
       "      <td>corona virus i implore that you cease activity...</td>\n",
       "    </tr>\n",
       "    <tr>\n",
       "      <th>3087</th>\n",
       "      <td>221</td>\n",
       "      <td>joy</td>\n",
       "      <td>issa date once lockdown ends inshaallah (and c...</td>\n",
       "    </tr>\n",
       "    <tr>\n",
       "      <th>3088</th>\n",
       "      <td>2705</td>\n",
       "      <td>sad</td>\n",
       "      <td>the death toll due to covid 19 rose to 31 in j...</td>\n",
       "    </tr>\n",
       "    <tr>\n",
       "      <th>3089</th>\n",
       "      <td>2962</td>\n",
       "      <td>sad</td>\n",
       "      <td>the rates are become barrier for poor people t...</td>\n",
       "    </tr>\n",
       "  </tbody>\n",
       "</table>\n",
       "<p>3090 rows × 3 columns</p>\n",
       "</div>"
      ],
      "text/plain": [
       "      Unnamed: 0 Feeling                                             tweets\n",
       "0           3204     sad  agree the poor in india are treated badly thei...\n",
       "1           1431     joy  if only i could have spent the with this cutie...\n",
       "2            654     joy  will nature conservation remain a priority in ...\n",
       "3           2530     sad  coronavirus disappearing in italy show this to...\n",
       "4           2296     sad  uk records lowest daily virus death toll since...\n",
       "...          ...     ...                                                ...\n",
       "3085        2579     sad  today at 02 30pm a 54 year old bangladeshi mal...\n",
       "3086        3579   anger  corona virus i implore that you cease activity...\n",
       "3087         221     joy  issa date once lockdown ends inshaallah (and c...\n",
       "3088        2705     sad  the death toll due to covid 19 rose to 31 in j...\n",
       "3089        2962     sad  the rates are become barrier for poor people t...\n",
       "\n",
       "[3090 rows x 3 columns]"
      ]
     },
     "execution_count": 42,
     "metadata": {},
     "output_type": "execute_result"
    }
   ],
   "source": [
    "#printing the new dataset\n",
    "dataset"
   ]
  },
  {
   "cell_type": "code",
   "execution_count": 43,
   "metadata": {},
   "outputs": [
    {
     "data": {
      "text/plain": [
       "<seaborn.axisgrid.FacetGrid at 0x2b57ff29b48>"
      ]
     },
     "execution_count": 43,
     "metadata": {},
     "output_type": "execute_result"
    },
    {
     "data": {
      "image/png": "[encoded data removed]",
      "text/plain": [
       "<Figure size 864x216 with 4 Axes>"
      ]
     },
     "metadata": {},
     "output_type": "display_data"
    }
   ],
   "source": [
    "#Dataset Summary\n",
    "dataset.describe(include='all')\n",
    "dataset['length'] = dataset['tweets'].apply(len)\n",
    "dataset.head()\n",
    "graph = sns.FacetGrid(data=dataset, col=\"Feeling\")\n",
    "graph.map(plt.hist, 'length', bins=50, color=\"Red\")"
   ]
  },
  {
   "cell_type": "code",
   "execution_count": 44,
   "metadata": {},
   "outputs": [
    {
     "data": {
      "text/html": [
       "<div>\n",
       "<style scoped>\n",
       "    .dataframe tbody tr th:only-of-type {\n",
       "        vertical-align: middle;\n",
       "    }\n",
       "\n",
       "    .dataframe tbody tr th {\n",
       "        vertical-align: top;\n",
       "    }\n",
       "\n",
       "    .dataframe thead th {\n",
       "        text-align: right;\n",
       "    }\n",
       "</style>\n",
       "<table border=\"1\" class=\"dataframe\">\n",
       "  <thead>\n",
       "    <tr style=\"text-align: right;\">\n",
       "      <th></th>\n",
       "      <th>Unnamed: 0</th>\n",
       "      <th>length</th>\n",
       "    </tr>\n",
       "    <tr>\n",
       "      <th>Feeling</th>\n",
       "      <th></th>\n",
       "      <th></th>\n",
       "    </tr>\n",
       "  </thead>\n",
       "  <tbody>\n",
       "    <tr>\n",
       "      <th>anger</th>\n",
       "      <td>3478.069100</td>\n",
       "      <td>134.859192</td>\n",
       "    </tr>\n",
       "    <tr>\n",
       "      <th>fear</th>\n",
       "      <td>4016.823970</td>\n",
       "      <td>141.269663</td>\n",
       "    </tr>\n",
       "    <tr>\n",
       "      <th>joy</th>\n",
       "      <td>1517.969739</td>\n",
       "      <td>126.066025</td>\n",
       "    </tr>\n",
       "    <tr>\n",
       "      <th>sad</th>\n",
       "      <td>1661.026415</td>\n",
       "      <td>162.874214</td>\n",
       "    </tr>\n",
       "  </tbody>\n",
       "</table>\n",
       "</div>"
      ],
      "text/plain": [
       "          Unnamed: 0      length\n",
       "Feeling                         \n",
       "anger    3478.069100  134.859192\n",
       "fear     4016.823970  141.269663\n",
       "joy      1517.969739  126.066025\n",
       "sad      1661.026415  162.874214"
      ]
     },
     "execution_count": 44,
     "metadata": {},
     "output_type": "execute_result"
    }
   ],
   "source": [
    "#Getting the mean values \n",
    "val = dataset.groupby('Feeling').mean()\n",
    "val"
   ]
  },
  {
   "cell_type": "code",
   "execution_count": null,
   "metadata": {},
   "outputs": [
    {
     "data": {
      "text/html": [
       "<div>\n",
       "<style scoped>\n",
       "    .dataframe tbody tr th:only-of-type {\n",
       "        vertical-align: middle;\n",
       "    }\n",
       "\n",
       "    .dataframe tbody tr th {\n",
       "        vertical-align: top;\n",
       "    }\n",
       "\n",
       "    .dataframe thead th {\n",
       "        text-align: right;\n",
       "    }\n",
       "</style>\n",
       "<table border=\"1\" class=\"dataframe\">\n",
       "  <thead>\n",
       "    <tr style=\"text-align: right;\">\n",
       "      <th></th>\n",
       "      <th>Unnamed: 0</th>\n",
       "      <th>length</th>\n",
       "    </tr>\n",
       "  </thead>\n",
       "  <tbody>\n",
       "    <tr>\n",
       "      <th>Unnamed: 0</th>\n",
       "      <td>1.000000</td>\n",
       "      <td>-0.158694</td>\n",
       "    </tr>\n",
       "    <tr>\n",
       "      <th>length</th>\n",
       "      <td>-0.158694</td>\n",
       "      <td>1.000000</td>\n",
       "    </tr>\n",
       "  </tbody>\n",
       "</table>\n",
       "</div>"
      ],
      "text/plain": [
       "            Unnamed: 0    length\n",
       "Unnamed: 0    1.000000 -0.158694\n",
       "length       -0.158694  1.000000"
      ]
     },
     "execution_count": 9,
     "metadata": {},
     "output_type": "execute_result"
    }
   ],
   "source": [
    "#finding the correlation \n",
    "val.corr()"
   ]
  },
  {
   "cell_type": "code",
   "execution_count": null,
   "metadata": {},
   "outputs": [
    {
     "data": {
      "text/plain": [
       "fear     801\n",
       "sad      795\n",
       "anger    767\n",
       "joy      727\n",
       "Name: Feeling, dtype: int64"
      ]
     },
     "execution_count": 10,
     "metadata": {},
     "output_type": "execute_result"
    }
   ],
   "source": [
    "dataset.Feeling.value_counts()"
   ]
  },
  {
   "cell_type": "markdown",
   "metadata": {},
   "source": [
    "PLOTTING THE GRAPHS"
   ]
  },
  {
   "cell_type": "code",
   "execution_count": 55,
   "metadata": {},
   "outputs": [
    {
     "data": {
      "image/png": "[encoded data removed]",
      "text/plain": [
       "<Figure size 432x288 with 1 Axes>"
      ]
     },
     "metadata": {},
     "output_type": "display_data"
    }
   ],
   "source": [
    "Feeling_val = dataset.groupby('Feeling').count()\n",
    "plt.bar(Feeling_val.index.values, Feeling_val['tweets'])\n",
    "plt.xlabel('Review of Feelings')\n",
    "plt.ylabel('Number of Tweets')\n",
    "plt.show()"
   ]
  },
  {
   "cell_type": "code",
   "execution_count": 48,
   "metadata": {},
   "outputs": [
    {
     "data": {
      "text/plain": [
       "<matplotlib.axes._subplots.AxesSubplot at 0x2b5001b8688>"
      ]
     },
     "execution_count": 48,
     "metadata": {},
     "output_type": "execute_result"
    },
    {
     "data": {
      "image/png": "[encoded data removed]",
      "text/plain": [
       "<Figure size 432x288 with 1 Axes>"
      ]
     },
     "metadata": {},
     "output_type": "display_data"
    }
   ],
   "source": [
    "#Lineplot of the Feelings\n",
    "sns.lineplot(data=Feeling_val, x=\"Feeling\", y=\"tweets\")"
   ]
  },
  {
   "cell_type": "markdown",
   "metadata": {},
   "source": [
    "Insights from the Analysis\n",
    "1. As the graph shows that most people were feared of the covid-19 wave and panicking.\n",
    "2. There were more number of people of who were worried about the covid-19 rather as compare to people who were angry on the situation.\n"
   ]
  }
 ],
 "metadata": {
  "interpreter": {
   "hash": "d3676ac62cf08b5278cd85025fc94465588d3248d92e97358c0f73c5c49a86fe"
  },
  "kernelspec": {
   "display_name": "Python 3.7.9 64-bit",
   "language": "python",
   "name": "python3"
  },
  "language_info": {
   "codemirror_mode": {
    "name": "ipython",
    "version": 3
   },
   "file_extension": ".py",
   "mimetype": "text/x-python",
   "name": "python",
   "nbconvert_exporter": "python",
   "pygments_lexer": "ipython3",
   "version": "3.7.9"
  },
  "orig_nbformat": 4
 },
 "nbformat": 4,
 "nbformat_minor": 2
}
